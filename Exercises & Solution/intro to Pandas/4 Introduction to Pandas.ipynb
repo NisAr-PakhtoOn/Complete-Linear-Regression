{
 "cells": [
  {
   "cell_type": "markdown",
   "id": "b0a80365",
   "metadata": {},
   "source": [
    "# Methods for editing strings in Pandas"
   ]
  },
  {
   "cell_type": "code",
   "execution_count": 1,
   "id": "63933ee8",
   "metadata": {},
   "outputs": [
    {
     "data": {
      "text/plain": [
       "0       A\n",
       "1       b\n",
       "2       B\n",
       "3    gear\n",
       "4    AGER\n",
       "5     NaN\n",
       "dtype: object"
      ]
     },
     "execution_count": 1,
     "metadata": {},
     "output_type": "execute_result"
    }
   ],
   "source": [
    "import numpy as np\n",
    "import pandas as pd\n",
    "\n",
    "s_1 = pd.Series([\"A\",\"b\",\"B\",\"gear\",\"AGER\",np.nan])\n",
    "s_1"
   ]
  },
  {
   "cell_type": "code",
   "execution_count": 2,
   "id": "db720a28",
   "metadata": {},
   "outputs": [
    {
     "data": {
      "text/plain": [
       "0       a\n",
       "1       b\n",
       "2       b\n",
       "3    gear\n",
       "4    ager\n",
       "5     NaN\n",
       "dtype: object"
      ]
     },
     "execution_count": 2,
     "metadata": {},
     "output_type": "execute_result"
    }
   ],
   "source": [
    "s_1.str.lower()"
   ]
  },
  {
   "cell_type": "code",
   "execution_count": 3,
   "id": "d0f38eb7",
   "metadata": {},
   "outputs": [
    {
     "data": {
      "text/plain": [
       "0       A\n",
       "1       B\n",
       "2       B\n",
       "3    GEAR\n",
       "4    AGER\n",
       "5     NaN\n",
       "dtype: object"
      ]
     },
     "execution_count": 3,
     "metadata": {},
     "output_type": "execute_result"
    }
   ],
   "source": [
    "s_1.str.upper()"
   ]
  },
  {
   "cell_type": "code",
   "execution_count": 4,
   "id": "1dfbbdb8",
   "metadata": {},
   "outputs": [
    {
     "data": {
      "text/plain": [
       "0    1.0\n",
       "1    1.0\n",
       "2    1.0\n",
       "3    4.0\n",
       "4    4.0\n",
       "5    NaN\n",
       "dtype: float64"
      ]
     },
     "execution_count": 4,
     "metadata": {},
     "output_type": "execute_result"
    }
   ],
   "source": [
    "s_1.str.len()"
   ]
  },
  {
   "cell_type": "code",
   "execution_count": 5,
   "id": "2435e455",
   "metadata": {},
   "outputs": [
    {
     "data": {
      "text/plain": [
       "Index(['    xp', 'xp    ', 'xp'], dtype='object')"
      ]
     },
     "execution_count": 5,
     "metadata": {},
     "output_type": "execute_result"
    }
   ],
   "source": [
    "idx = pd.Index([\"    xp\",\"xp    \", \"xp\"])\n",
    "idx"
   ]
  },
  {
   "cell_type": "code",
   "execution_count": 6,
   "id": "f1068c85",
   "metadata": {},
   "outputs": [
    {
     "data": {
      "text/plain": [
       "Index(['xp', 'xp', 'xp'], dtype='object')"
      ]
     },
     "execution_count": 6,
     "metadata": {},
     "output_type": "execute_result"
    }
   ],
   "source": [
    "idx.str.strip()"
   ]
  },
  {
   "cell_type": "code",
   "execution_count": 7,
   "id": "9f45275e",
   "metadata": {},
   "outputs": [
    {
     "data": {
      "text/plain": [
       "Index(['xp', 'xp    ', 'xp'], dtype='object')"
      ]
     },
     "execution_count": 7,
     "metadata": {},
     "output_type": "execute_result"
    }
   ],
   "source": [
    "idx.str.lstrip()"
   ]
  },
  {
   "cell_type": "code",
   "execution_count": 8,
   "id": "35e4d9d7",
   "metadata": {},
   "outputs": [
    {
     "data": {
      "text/plain": [
       "Index(['    xp', 'xp', 'xp'], dtype='object')"
      ]
     },
     "execution_count": 8,
     "metadata": {},
     "output_type": "execute_result"
    }
   ],
   "source": [
    "idx.str.rstrip()"
   ]
  },
  {
   "cell_type": "code",
   "execution_count": 9,
   "id": "38962cfc",
   "metadata": {},
   "outputs": [
    {
     "data": {
      "text/html": [
       "<div>\n",
       "<style scoped>\n",
       "    .dataframe tbody tr th:only-of-type {\n",
       "        vertical-align: middle;\n",
       "    }\n",
       "\n",
       "    .dataframe tbody tr th {\n",
       "        vertical-align: top;\n",
       "    }\n",
       "\n",
       "    .dataframe thead th {\n",
       "        text-align: right;\n",
       "    }\n",
       "</style>\n",
       "<table border=\"1\" class=\"dataframe\">\n",
       "  <thead>\n",
       "    <tr style=\"text-align: right;\">\n",
       "      <th></th>\n",
       "      <th>A a</th>\n",
       "      <th>B b</th>\n",
       "    </tr>\n",
       "  </thead>\n",
       "  <tbody>\n",
       "    <tr>\n",
       "      <th>0</th>\n",
       "      <td>0.897439</td>\n",
       "      <td>-1.26444</td>\n",
       "    </tr>\n",
       "    <tr>\n",
       "      <th>1</th>\n",
       "      <td>-0.102060</td>\n",
       "      <td>-0.63607</td>\n",
       "    </tr>\n",
       "    <tr>\n",
       "      <th>2</th>\n",
       "      <td>0.035386</td>\n",
       "      <td>-0.73216</td>\n",
       "    </tr>\n",
       "  </tbody>\n",
       "</table>\n",
       "</div>"
      ],
      "text/plain": [
       "        A a      B b\n",
       "0  0.897439 -1.26444\n",
       "1 -0.102060 -0.63607\n",
       "2  0.035386 -0.73216"
      ]
     },
     "execution_count": 9,
     "metadata": {},
     "output_type": "execute_result"
    }
   ],
   "source": [
    "data_1 = pd.DataFrame(np.random.randn(3,2), columns=[\"A a\", \"B b\"], index=range(3))\n",
    "data_1"
   ]
  },
  {
   "cell_type": "code",
   "execution_count": 10,
   "id": "0ffd89e1",
   "metadata": {},
   "outputs": [
    {
     "data": {
      "text/html": [
       "<div>\n",
       "<style scoped>\n",
       "    .dataframe tbody tr th:only-of-type {\n",
       "        vertical-align: middle;\n",
       "    }\n",
       "\n",
       "    .dataframe tbody tr th {\n",
       "        vertical-align: top;\n",
       "    }\n",
       "\n",
       "    .dataframe thead th {\n",
       "        text-align: right;\n",
       "    }\n",
       "</style>\n",
       "<table border=\"1\" class=\"dataframe\">\n",
       "  <thead>\n",
       "    <tr style=\"text-align: right;\">\n",
       "      <th></th>\n",
       "      <th>A_a</th>\n",
       "      <th>B_b</th>\n",
       "    </tr>\n",
       "  </thead>\n",
       "  <tbody>\n",
       "    <tr>\n",
       "      <th>0</th>\n",
       "      <td>0.897439</td>\n",
       "      <td>-1.26444</td>\n",
       "    </tr>\n",
       "    <tr>\n",
       "      <th>1</th>\n",
       "      <td>-0.102060</td>\n",
       "      <td>-0.63607</td>\n",
       "    </tr>\n",
       "    <tr>\n",
       "      <th>2</th>\n",
       "      <td>0.035386</td>\n",
       "      <td>-0.73216</td>\n",
       "    </tr>\n",
       "  </tbody>\n",
       "</table>\n",
       "</div>"
      ],
      "text/plain": [
       "        A_a      B_b\n",
       "0  0.897439 -1.26444\n",
       "1 -0.102060 -0.63607\n",
       "2  0.035386 -0.73216"
      ]
     },
     "execution_count": 10,
     "metadata": {},
     "output_type": "execute_result"
    }
   ],
   "source": [
    "data_1.columns = data_1.columns.str.replace(\" \",\"_\")\n",
    "data_1"
   ]
  },
  {
   "cell_type": "code",
   "execution_count": 11,
   "id": "ac6a8fb3",
   "metadata": {},
   "outputs": [
    {
     "data": {
      "text/plain": [
       "0    a b c\n",
       "1    d e f\n",
       "2    g h i\n",
       "dtype: object"
      ]
     },
     "execution_count": 11,
     "metadata": {},
     "output_type": "execute_result"
    }
   ],
   "source": [
    "s_2 = pd.Series([\"a b c\", \"d e f\", \"g h i\"])\n",
    "s_2"
   ]
  },
  {
   "cell_type": "code",
   "execution_count": 12,
   "id": "77ba2877",
   "metadata": {},
   "outputs": [
    {
     "data": {
      "text/plain": [
       "0    [a, b, c]\n",
       "1    [d, e, f]\n",
       "2    [g, h, i]\n",
       "dtype: object"
      ]
     },
     "execution_count": 12,
     "metadata": {},
     "output_type": "execute_result"
    }
   ],
   "source": [
    "s_2.str.split(\" \")"
   ]
  },
  {
   "cell_type": "code",
   "execution_count": 13,
   "id": "35c0a429",
   "metadata": {},
   "outputs": [
    {
     "data": {
      "text/html": [
       "<div>\n",
       "<style scoped>\n",
       "    .dataframe tbody tr th:only-of-type {\n",
       "        vertical-align: middle;\n",
       "    }\n",
       "\n",
       "    .dataframe tbody tr th {\n",
       "        vertical-align: top;\n",
       "    }\n",
       "\n",
       "    .dataframe thead th {\n",
       "        text-align: right;\n",
       "    }\n",
       "</style>\n",
       "<table border=\"1\" class=\"dataframe\">\n",
       "  <thead>\n",
       "    <tr style=\"text-align: right;\">\n",
       "      <th></th>\n",
       "      <th>0</th>\n",
       "      <th>1</th>\n",
       "      <th>2</th>\n",
       "    </tr>\n",
       "  </thead>\n",
       "  <tbody>\n",
       "    <tr>\n",
       "      <th>0</th>\n",
       "      <td>a</td>\n",
       "      <td>b</td>\n",
       "      <td>c</td>\n",
       "    </tr>\n",
       "    <tr>\n",
       "      <th>1</th>\n",
       "      <td>d</td>\n",
       "      <td>e</td>\n",
       "      <td>f</td>\n",
       "    </tr>\n",
       "    <tr>\n",
       "      <th>2</th>\n",
       "      <td>g</td>\n",
       "      <td>h</td>\n",
       "      <td>i</td>\n",
       "    </tr>\n",
       "  </tbody>\n",
       "</table>\n",
       "</div>"
      ],
      "text/plain": [
       "   0  1  2\n",
       "0  a  b  c\n",
       "1  d  e  f\n",
       "2  g  h  i"
      ]
     },
     "execution_count": 13,
     "metadata": {},
     "output_type": "execute_result"
    }
   ],
   "source": [
    "s_2.str.split(\" \", expand=True)"
   ]
  },
  {
   "cell_type": "code",
   "execution_count": 14,
   "id": "bec5a2f8",
   "metadata": {},
   "outputs": [
    {
     "data": {
      "text/html": [
       "<div>\n",
       "<style scoped>\n",
       "    .dataframe tbody tr th:only-of-type {\n",
       "        vertical-align: middle;\n",
       "    }\n",
       "\n",
       "    .dataframe tbody tr th {\n",
       "        vertical-align: top;\n",
       "    }\n",
       "\n",
       "    .dataframe thead th {\n",
       "        text-align: right;\n",
       "    }\n",
       "</style>\n",
       "<table border=\"1\" class=\"dataframe\">\n",
       "  <thead>\n",
       "    <tr style=\"text-align: right;\">\n",
       "      <th></th>\n",
       "      <th>0</th>\n",
       "      <th>1</th>\n",
       "    </tr>\n",
       "  </thead>\n",
       "  <tbody>\n",
       "    <tr>\n",
       "      <th>0</th>\n",
       "      <td>a</td>\n",
       "      <td>b c</td>\n",
       "    </tr>\n",
       "    <tr>\n",
       "      <th>1</th>\n",
       "      <td>d</td>\n",
       "      <td>e f</td>\n",
       "    </tr>\n",
       "    <tr>\n",
       "      <th>2</th>\n",
       "      <td>g</td>\n",
       "      <td>h i</td>\n",
       "    </tr>\n",
       "  </tbody>\n",
       "</table>\n",
       "</div>"
      ],
      "text/plain": [
       "   0    1\n",
       "0  a  b c\n",
       "1  d  e f\n",
       "2  g  h i"
      ]
     },
     "execution_count": 14,
     "metadata": {},
     "output_type": "execute_result"
    }
   ],
   "source": [
    "s_2.str.split(\" \", expand=True, n=1)"
   ]
  },
  {
   "cell_type": "code",
   "execution_count": 15,
   "id": "ee3ebe1c",
   "metadata": {},
   "outputs": [
    {
     "data": {
      "text/html": [
       "<div>\n",
       "<style scoped>\n",
       "    .dataframe tbody tr th:only-of-type {\n",
       "        vertical-align: middle;\n",
       "    }\n",
       "\n",
       "    .dataframe tbody tr th {\n",
       "        vertical-align: top;\n",
       "    }\n",
       "\n",
       "    .dataframe thead th {\n",
       "        text-align: right;\n",
       "    }\n",
       "</style>\n",
       "<table border=\"1\" class=\"dataframe\">\n",
       "  <thead>\n",
       "    <tr style=\"text-align: right;\">\n",
       "      <th></th>\n",
       "      <th>0</th>\n",
       "      <th>1</th>\n",
       "    </tr>\n",
       "  </thead>\n",
       "  <tbody>\n",
       "    <tr>\n",
       "      <th>0</th>\n",
       "      <td>a</td>\n",
       "      <td>b c</td>\n",
       "    </tr>\n",
       "    <tr>\n",
       "      <th>1</th>\n",
       "      <td>d</td>\n",
       "      <td>e f</td>\n",
       "    </tr>\n",
       "    <tr>\n",
       "      <th>2</th>\n",
       "      <td>g</td>\n",
       "      <td>h i</td>\n",
       "    </tr>\n",
       "  </tbody>\n",
       "</table>\n",
       "</div>"
      ],
      "text/plain": [
       "   0    1\n",
       "0  a  b c\n",
       "1  d  e f\n",
       "2  g  h i"
      ]
     },
     "execution_count": 15,
     "metadata": {},
     "output_type": "execute_result"
    }
   ],
   "source": [
    "s_2.str.split(\" \", expand=True, n=1)"
   ]
  },
  {
   "cell_type": "code",
   "execution_count": 18,
   "id": "e1c7986f",
   "metadata": {},
   "outputs": [
    {
     "data": {
      "text/plain": [
       "0        A\n",
       "1       As\n",
       "2      Asd\n",
       "3    Asdfg\n",
       "dtype: object"
      ]
     },
     "execution_count": 18,
     "metadata": {},
     "output_type": "execute_result"
    }
   ],
   "source": [
    "s_3 = pd.Series([\"A\",\"As\",\"Asd\",\"Asdfg\"])\n",
    "s_3"
   ]
  },
  {
   "cell_type": "code",
   "execution_count": 19,
   "id": "a233afeb",
   "metadata": {},
   "outputs": [
    {
     "data": {
      "text/plain": [
       "0    False\n",
       "1    False\n",
       "2     True\n",
       "3     True\n",
       "dtype: bool"
      ]
     },
     "execution_count": 19,
     "metadata": {},
     "output_type": "execute_result"
    }
   ],
   "source": [
    "s_3.str.contains(\"Asd\")"
   ]
  },
  {
   "cell_type": "code",
   "execution_count": 20,
   "id": "ff99c18d",
   "metadata": {},
   "outputs": [
    {
     "data": {
      "text/plain": [
       "0    False\n",
       "1    False\n",
       "2    False\n",
       "3    False\n",
       "dtype: bool"
      ]
     },
     "execution_count": 20,
     "metadata": {},
     "output_type": "execute_result"
    }
   ],
   "source": [
    "s_3.str.contains(\"Aa\")"
   ]
  },
  {
   "cell_type": "code",
   "execution_count": 21,
   "id": "9bd7d0a5",
   "metadata": {},
   "outputs": [
    {
     "data": {
      "text/plain": [
       "0    True\n",
       "1    True\n",
       "2    True\n",
       "3    True\n",
       "dtype: bool"
      ]
     },
     "execution_count": 21,
     "metadata": {},
     "output_type": "execute_result"
    }
   ],
   "source": [
    "s_3.str.contains(\"A\")"
   ]
  },
  {
   "cell_type": "markdown",
   "id": "d105f69f",
   "metadata": {},
   "source": [
    "# Advanced indexing methods in Pandas"
   ]
  },
  {
   "cell_type": "code",
   "execution_count": 22,
   "id": "76ffbfeb",
   "metadata": {},
   "outputs": [],
   "source": [
    "s_1 = pd.Series(np.arange(5), index=np.arange(5)[::-1], dtype=\"int64\")"
   ]
  },
  {
   "cell_type": "code",
   "execution_count": 23,
   "id": "f7afecea",
   "metadata": {},
   "outputs": [
    {
     "data": {
      "text/plain": [
       "4    0\n",
       "3    1\n",
       "2    2\n",
       "1    3\n",
       "0    4\n",
       "dtype: int64"
      ]
     },
     "execution_count": 23,
     "metadata": {},
     "output_type": "execute_result"
    }
   ],
   "source": [
    "s_1"
   ]
  },
  {
   "cell_type": "code",
   "execution_count": 24,
   "id": "47df5b31",
   "metadata": {},
   "outputs": [
    {
     "data": {
      "text/plain": [
       "4    False\n",
       "3     True\n",
       "2     True\n",
       "1    False\n",
       "0     True\n",
       "dtype: bool"
      ]
     },
     "execution_count": 24,
     "metadata": {},
     "output_type": "execute_result"
    }
   ],
   "source": [
    "s_1.isin([1,2,4])"
   ]
  },
  {
   "cell_type": "code",
   "execution_count": 25,
   "id": "0b1b768f",
   "metadata": {},
   "outputs": [
    {
     "data": {
      "text/plain": [
       "3    1\n",
       "2    2\n",
       "0    4\n",
       "dtype: int64"
      ]
     },
     "execution_count": 25,
     "metadata": {},
     "output_type": "execute_result"
    }
   ],
   "source": [
    "s_1[s_1.isin([1,2,4])]"
   ]
  },
  {
   "cell_type": "code",
   "execution_count": 26,
   "id": "c6f6d3a2",
   "metadata": {},
   "outputs": [
    {
     "data": {
      "text/plain": [
       "0  a    0\n",
       "   b    1\n",
       "   c    2\n",
       "1  a    3\n",
       "   b    4\n",
       "   c    5\n",
       "dtype: int32"
      ]
     },
     "execution_count": 26,
     "metadata": {},
     "output_type": "execute_result"
    }
   ],
   "source": [
    "s_2 = pd.Series(np.arange(6), index=pd.MultiIndex.from_product([[0,1],[\"a\",\"b\",\"c\"]]))\n",
    "s_2"
   ]
  },
  {
   "cell_type": "code",
   "execution_count": 27,
   "id": "3838ce91",
   "metadata": {},
   "outputs": [
    {
     "data": {
      "text/plain": [
       "0  b    1\n",
       "1  a    3\n",
       "dtype: int32"
      ]
     },
     "execution_count": 27,
     "metadata": {},
     "output_type": "execute_result"
    }
   ],
   "source": [
    "s_2.iloc[s_2.index.isin([(1,\"a\"),(0,\"b\")])]"
   ]
  },
  {
   "cell_type": "code",
   "execution_count": 28,
   "id": "494eea89",
   "metadata": {},
   "outputs": [
    {
     "data": {
      "text/html": [
       "<div>\n",
       "<style scoped>\n",
       "    .dataframe tbody tr th:only-of-type {\n",
       "        vertical-align: middle;\n",
       "    }\n",
       "\n",
       "    .dataframe tbody tr th {\n",
       "        vertical-align: top;\n",
       "    }\n",
       "\n",
       "    .dataframe thead th {\n",
       "        text-align: right;\n",
       "    }\n",
       "</style>\n",
       "<table border=\"1\" class=\"dataframe\">\n",
       "  <thead>\n",
       "    <tr style=\"text-align: right;\">\n",
       "      <th></th>\n",
       "      <th>A</th>\n",
       "      <th>B</th>\n",
       "      <th>C</th>\n",
       "      <th>D</th>\n",
       "    </tr>\n",
       "  </thead>\n",
       "  <tbody>\n",
       "    <tr>\n",
       "      <th>2018-11-21</th>\n",
       "      <td>-0.511435</td>\n",
       "      <td>-0.264350</td>\n",
       "      <td>1.137674</td>\n",
       "      <td>0.228832</td>\n",
       "    </tr>\n",
       "    <tr>\n",
       "      <th>2018-11-22</th>\n",
       "      <td>1.525868</td>\n",
       "      <td>-1.138135</td>\n",
       "      <td>-0.387224</td>\n",
       "      <td>-0.171902</td>\n",
       "    </tr>\n",
       "    <tr>\n",
       "      <th>2018-11-23</th>\n",
       "      <td>1.323109</td>\n",
       "      <td>0.343328</td>\n",
       "      <td>1.695239</td>\n",
       "      <td>1.103486</td>\n",
       "    </tr>\n",
       "    <tr>\n",
       "      <th>2018-11-24</th>\n",
       "      <td>-2.193289</td>\n",
       "      <td>-0.138588</td>\n",
       "      <td>-1.649394</td>\n",
       "      <td>-1.864759</td>\n",
       "    </tr>\n",
       "    <tr>\n",
       "      <th>2018-11-25</th>\n",
       "      <td>-0.891637</td>\n",
       "      <td>1.618938</td>\n",
       "      <td>1.140595</td>\n",
       "      <td>0.643799</td>\n",
       "    </tr>\n",
       "    <tr>\n",
       "      <th>2018-11-26</th>\n",
       "      <td>-0.390678</td>\n",
       "      <td>-0.729711</td>\n",
       "      <td>-0.270697</td>\n",
       "      <td>-0.441789</td>\n",
       "    </tr>\n",
       "    <tr>\n",
       "      <th>2018-11-27</th>\n",
       "      <td>0.859532</td>\n",
       "      <td>0.139106</td>\n",
       "      <td>-1.857454</td>\n",
       "      <td>-0.851773</td>\n",
       "    </tr>\n",
       "    <tr>\n",
       "      <th>2018-11-28</th>\n",
       "      <td>0.454174</td>\n",
       "      <td>2.123270</td>\n",
       "      <td>-0.038595</td>\n",
       "      <td>1.250827</td>\n",
       "    </tr>\n",
       "  </tbody>\n",
       "</table>\n",
       "</div>"
      ],
      "text/plain": [
       "                   A         B         C         D\n",
       "2018-11-21 -0.511435 -0.264350  1.137674  0.228832\n",
       "2018-11-22  1.525868 -1.138135 -0.387224 -0.171902\n",
       "2018-11-23  1.323109  0.343328  1.695239  1.103486\n",
       "2018-11-24 -2.193289 -0.138588 -1.649394 -1.864759\n",
       "2018-11-25 -0.891637  1.618938  1.140595  0.643799\n",
       "2018-11-26 -0.390678 -0.729711 -0.270697 -0.441789\n",
       "2018-11-27  0.859532  0.139106 -1.857454 -0.851773\n",
       "2018-11-28  0.454174  2.123270 -0.038595  1.250827"
      ]
     },
     "execution_count": 28,
     "metadata": {},
     "output_type": "execute_result"
    }
   ],
   "source": [
    "dates = pd.date_range(\"20181121\", periods=8)\n",
    "data_1 = pd.DataFrame(np.random.randn(8,4), columns=[\"A\",\"B\",\"C\",\"D\"], index=dates)\n",
    "data_1"
   ]
  },
  {
   "cell_type": "code",
   "execution_count": 29,
   "id": "aa3b9dd8",
   "metadata": {},
   "outputs": [
    {
     "data": {
      "text/html": [
       "<div>\n",
       "<style scoped>\n",
       "    .dataframe tbody tr th:only-of-type {\n",
       "        vertical-align: middle;\n",
       "    }\n",
       "\n",
       "    .dataframe tbody tr th {\n",
       "        vertical-align: top;\n",
       "    }\n",
       "\n",
       "    .dataframe thead th {\n",
       "        text-align: right;\n",
       "    }\n",
       "</style>\n",
       "<table border=\"1\" class=\"dataframe\">\n",
       "  <thead>\n",
       "    <tr style=\"text-align: right;\">\n",
       "      <th></th>\n",
       "      <th>A</th>\n",
       "      <th>B</th>\n",
       "      <th>C</th>\n",
       "      <th>D</th>\n",
       "    </tr>\n",
       "  </thead>\n",
       "  <tbody>\n",
       "    <tr>\n",
       "      <th>2018-11-21</th>\n",
       "      <td>-0.511435</td>\n",
       "      <td>-0.264350</td>\n",
       "      <td>NaN</td>\n",
       "      <td>NaN</td>\n",
       "    </tr>\n",
       "    <tr>\n",
       "      <th>2018-11-22</th>\n",
       "      <td>NaN</td>\n",
       "      <td>-1.138135</td>\n",
       "      <td>-0.387224</td>\n",
       "      <td>-0.171902</td>\n",
       "    </tr>\n",
       "    <tr>\n",
       "      <th>2018-11-23</th>\n",
       "      <td>NaN</td>\n",
       "      <td>NaN</td>\n",
       "      <td>NaN</td>\n",
       "      <td>NaN</td>\n",
       "    </tr>\n",
       "    <tr>\n",
       "      <th>2018-11-24</th>\n",
       "      <td>-2.193289</td>\n",
       "      <td>-0.138588</td>\n",
       "      <td>-1.649394</td>\n",
       "      <td>-1.864759</td>\n",
       "    </tr>\n",
       "    <tr>\n",
       "      <th>2018-11-25</th>\n",
       "      <td>-0.891637</td>\n",
       "      <td>NaN</td>\n",
       "      <td>NaN</td>\n",
       "      <td>NaN</td>\n",
       "    </tr>\n",
       "    <tr>\n",
       "      <th>2018-11-26</th>\n",
       "      <td>-0.390678</td>\n",
       "      <td>-0.729711</td>\n",
       "      <td>-0.270697</td>\n",
       "      <td>-0.441789</td>\n",
       "    </tr>\n",
       "    <tr>\n",
       "      <th>2018-11-27</th>\n",
       "      <td>NaN</td>\n",
       "      <td>NaN</td>\n",
       "      <td>-1.857454</td>\n",
       "      <td>-0.851773</td>\n",
       "    </tr>\n",
       "    <tr>\n",
       "      <th>2018-11-28</th>\n",
       "      <td>NaN</td>\n",
       "      <td>NaN</td>\n",
       "      <td>-0.038595</td>\n",
       "      <td>NaN</td>\n",
       "    </tr>\n",
       "  </tbody>\n",
       "</table>\n",
       "</div>"
      ],
      "text/plain": [
       "                   A         B         C         D\n",
       "2018-11-21 -0.511435 -0.264350       NaN       NaN\n",
       "2018-11-22       NaN -1.138135 -0.387224 -0.171902\n",
       "2018-11-23       NaN       NaN       NaN       NaN\n",
       "2018-11-24 -2.193289 -0.138588 -1.649394 -1.864759\n",
       "2018-11-25 -0.891637       NaN       NaN       NaN\n",
       "2018-11-26 -0.390678 -0.729711 -0.270697 -0.441789\n",
       "2018-11-27       NaN       NaN -1.857454 -0.851773\n",
       "2018-11-28       NaN       NaN -0.038595       NaN"
      ]
     },
     "execution_count": 29,
     "metadata": {},
     "output_type": "execute_result"
    }
   ],
   "source": [
    "data_1.where(data_1 < 0)"
   ]
  },
  {
   "cell_type": "code",
   "execution_count": 30,
   "id": "dd84dd83",
   "metadata": {},
   "outputs": [
    {
     "data": {
      "text/html": [
       "<div>\n",
       "<style scoped>\n",
       "    .dataframe tbody tr th:only-of-type {\n",
       "        vertical-align: middle;\n",
       "    }\n",
       "\n",
       "    .dataframe tbody tr th {\n",
       "        vertical-align: top;\n",
       "    }\n",
       "\n",
       "    .dataframe thead th {\n",
       "        text-align: right;\n",
       "    }\n",
       "</style>\n",
       "<table border=\"1\" class=\"dataframe\">\n",
       "  <thead>\n",
       "    <tr style=\"text-align: right;\">\n",
       "      <th></th>\n",
       "      <th>a</th>\n",
       "      <th>b</th>\n",
       "      <th>c</th>\n",
       "    </tr>\n",
       "  </thead>\n",
       "  <tbody>\n",
       "    <tr>\n",
       "      <th>0</th>\n",
       "      <td>0.918843</td>\n",
       "      <td>0.896452</td>\n",
       "      <td>0.223336</td>\n",
       "    </tr>\n",
       "    <tr>\n",
       "      <th>1</th>\n",
       "      <td>0.441739</td>\n",
       "      <td>0.297655</td>\n",
       "      <td>0.137703</td>\n",
       "    </tr>\n",
       "    <tr>\n",
       "      <th>2</th>\n",
       "      <td>0.864539</td>\n",
       "      <td>0.285126</td>\n",
       "      <td>0.006528</td>\n",
       "    </tr>\n",
       "    <tr>\n",
       "      <th>3</th>\n",
       "      <td>0.399568</td>\n",
       "      <td>0.468795</td>\n",
       "      <td>0.288397</td>\n",
       "    </tr>\n",
       "    <tr>\n",
       "      <th>4</th>\n",
       "      <td>0.678589</td>\n",
       "      <td>0.377684</td>\n",
       "      <td>0.960724</td>\n",
       "    </tr>\n",
       "    <tr>\n",
       "      <th>5</th>\n",
       "      <td>0.982432</td>\n",
       "      <td>0.369929</td>\n",
       "      <td>0.535840</td>\n",
       "    </tr>\n",
       "    <tr>\n",
       "      <th>6</th>\n",
       "      <td>0.848534</td>\n",
       "      <td>0.759683</td>\n",
       "      <td>0.207495</td>\n",
       "    </tr>\n",
       "    <tr>\n",
       "      <th>7</th>\n",
       "      <td>0.574063</td>\n",
       "      <td>0.885963</td>\n",
       "      <td>0.676181</td>\n",
       "    </tr>\n",
       "    <tr>\n",
       "      <th>8</th>\n",
       "      <td>0.877813</td>\n",
       "      <td>0.500869</td>\n",
       "      <td>0.803667</td>\n",
       "    </tr>\n",
       "    <tr>\n",
       "      <th>9</th>\n",
       "      <td>0.453724</td>\n",
       "      <td>0.345752</td>\n",
       "      <td>0.455044</td>\n",
       "    </tr>\n",
       "  </tbody>\n",
       "</table>\n",
       "</div>"
      ],
      "text/plain": [
       "          a         b         c\n",
       "0  0.918843  0.896452  0.223336\n",
       "1  0.441739  0.297655  0.137703\n",
       "2  0.864539  0.285126  0.006528\n",
       "3  0.399568  0.468795  0.288397\n",
       "4  0.678589  0.377684  0.960724\n",
       "5  0.982432  0.369929  0.535840\n",
       "6  0.848534  0.759683  0.207495\n",
       "7  0.574063  0.885963  0.676181\n",
       "8  0.877813  0.500869  0.803667\n",
       "9  0.453724  0.345752  0.455044"
      ]
     },
     "execution_count": 30,
     "metadata": {},
     "output_type": "execute_result"
    }
   ],
   "source": [
    "data_2 = pd.DataFrame(np.random.rand(10,3), columns=list(\"abc\"))\n",
    "data_2"
   ]
  },
  {
   "cell_type": "code",
   "execution_count": 31,
   "id": "60ed04ef",
   "metadata": {},
   "outputs": [
    {
     "data": {
      "text/html": [
       "<div>\n",
       "<style scoped>\n",
       "    .dataframe tbody tr th:only-of-type {\n",
       "        vertical-align: middle;\n",
       "    }\n",
       "\n",
       "    .dataframe tbody tr th {\n",
       "        vertical-align: top;\n",
       "    }\n",
       "\n",
       "    .dataframe thead th {\n",
       "        text-align: right;\n",
       "    }\n",
       "</style>\n",
       "<table border=\"1\" class=\"dataframe\">\n",
       "  <thead>\n",
       "    <tr style=\"text-align: right;\">\n",
       "      <th></th>\n",
       "      <th>a</th>\n",
       "      <th>b</th>\n",
       "      <th>c</th>\n",
       "    </tr>\n",
       "  </thead>\n",
       "  <tbody>\n",
       "    <tr>\n",
       "      <th>3</th>\n",
       "      <td>0.399568</td>\n",
       "      <td>0.468795</td>\n",
       "      <td>0.288397</td>\n",
       "    </tr>\n",
       "    <tr>\n",
       "      <th>7</th>\n",
       "      <td>0.574063</td>\n",
       "      <td>0.885963</td>\n",
       "      <td>0.676181</td>\n",
       "    </tr>\n",
       "  </tbody>\n",
       "</table>\n",
       "</div>"
      ],
      "text/plain": [
       "          a         b         c\n",
       "3  0.399568  0.468795  0.288397\n",
       "7  0.574063  0.885963  0.676181"
      ]
     },
     "execution_count": 31,
     "metadata": {},
     "output_type": "execute_result"
    }
   ],
   "source": [
    "data_2.query(\"(a<b)\")"
   ]
  },
  {
   "cell_type": "code",
   "execution_count": 32,
   "id": "f8cdef72",
   "metadata": {},
   "outputs": [
    {
     "data": {
      "text/html": [
       "<div>\n",
       "<style scoped>\n",
       "    .dataframe tbody tr th:only-of-type {\n",
       "        vertical-align: middle;\n",
       "    }\n",
       "\n",
       "    .dataframe tbody tr th {\n",
       "        vertical-align: top;\n",
       "    }\n",
       "\n",
       "    .dataframe thead th {\n",
       "        text-align: right;\n",
       "    }\n",
       "</style>\n",
       "<table border=\"1\" class=\"dataframe\">\n",
       "  <thead>\n",
       "    <tr style=\"text-align: right;\">\n",
       "      <th></th>\n",
       "      <th>a</th>\n",
       "      <th>b</th>\n",
       "      <th>c</th>\n",
       "    </tr>\n",
       "  </thead>\n",
       "  <tbody>\n",
       "  </tbody>\n",
       "</table>\n",
       "</div>"
      ],
      "text/plain": [
       "Empty DataFrame\n",
       "Columns: [a, b, c]\n",
       "Index: []"
      ]
     },
     "execution_count": 32,
     "metadata": {},
     "output_type": "execute_result"
    }
   ],
   "source": [
    "data_2.query(\"(a<b) & (b<c)\")"
   ]
  },
  {
   "cell_type": "markdown",
   "id": "0d86ade6",
   "metadata": {},
   "source": [
    "# Create graphs in Pandas"
   ]
  },
  {
   "cell_type": "code",
   "execution_count": 33,
   "id": "e2b81672",
   "metadata": {},
   "outputs": [],
   "source": [
    "%matplotlib inline"
   ]
  },
  {
   "cell_type": "code",
   "execution_count": 34,
   "id": "07bcb674",
   "metadata": {},
   "outputs": [
    {
     "data": {
      "text/plain": [
       "<AxesSubplot:>"
      ]
     },
     "execution_count": 34,
     "metadata": {},
     "output_type": "execute_result"
    },
    {
     "data": {
      "image/png": "[encoded data removed]",
      "text/plain": [
       "<Figure size 432x288 with 1 Axes>"
      ]
     },
     "metadata": {
      "needs_background": "light"
     },
     "output_type": "display_data"
    }
   ],
   "source": [
    "s_1 = pd.Series(np.random.randn(10), index=np.arange(0,100,10))\n",
    "s_1.plot()"
   ]
  },
  {
   "cell_type": "code",
   "execution_count": 35,
   "id": "aec0a906",
   "metadata": {},
   "outputs": [
    {
     "data": {
      "text/html": [
       "<div>\n",
       "<style scoped>\n",
       "    .dataframe tbody tr th:only-of-type {\n",
       "        vertical-align: middle;\n",
       "    }\n",
       "\n",
       "    .dataframe tbody tr th {\n",
       "        vertical-align: top;\n",
       "    }\n",
       "\n",
       "    .dataframe thead th {\n",
       "        text-align: right;\n",
       "    }\n",
       "</style>\n",
       "<table border=\"1\" class=\"dataframe\">\n",
       "  <thead>\n",
       "    <tr style=\"text-align: right;\">\n",
       "      <th></th>\n",
       "      <th>A</th>\n",
       "      <th>B</th>\n",
       "      <th>C</th>\n",
       "      <th>D</th>\n",
       "    </tr>\n",
       "  </thead>\n",
       "  <tbody>\n",
       "    <tr>\n",
       "      <th>0</th>\n",
       "      <td>-0.718056</td>\n",
       "      <td>-1.021388</td>\n",
       "      <td>0.066561</td>\n",
       "      <td>-0.164194</td>\n",
       "    </tr>\n",
       "    <tr>\n",
       "      <th>10</th>\n",
       "      <td>0.716577</td>\n",
       "      <td>0.204610</td>\n",
       "      <td>-0.815616</td>\n",
       "      <td>-0.260264</td>\n",
       "    </tr>\n",
       "    <tr>\n",
       "      <th>20</th>\n",
       "      <td>0.167418</td>\n",
       "      <td>-0.228227</td>\n",
       "      <td>-0.248860</td>\n",
       "      <td>1.284459</td>\n",
       "    </tr>\n",
       "    <tr>\n",
       "      <th>30</th>\n",
       "      <td>1.075483</td>\n",
       "      <td>0.345961</td>\n",
       "      <td>0.073788</td>\n",
       "      <td>0.217204</td>\n",
       "    </tr>\n",
       "    <tr>\n",
       "      <th>40</th>\n",
       "      <td>-0.780248</td>\n",
       "      <td>-0.239885</td>\n",
       "      <td>0.006299</td>\n",
       "      <td>0.784846</td>\n",
       "    </tr>\n",
       "  </tbody>\n",
       "</table>\n",
       "</div>"
      ],
      "text/plain": [
       "           A         B         C         D\n",
       "0  -0.718056 -1.021388  0.066561 -0.164194\n",
       "10  0.716577  0.204610 -0.815616 -0.260264\n",
       "20  0.167418 -0.228227 -0.248860  1.284459\n",
       "30  1.075483  0.345961  0.073788  0.217204\n",
       "40 -0.780248 -0.239885  0.006299  0.784846"
      ]
     },
     "execution_count": 35,
     "metadata": {},
     "output_type": "execute_result"
    }
   ],
   "source": [
    "data_1 = pd.DataFrame(np.random.randn(10,4),\n",
    "                     index = np.arange(0,100,10),\n",
    "                     columns = [\"A\",\"B\",\"C\",\"D\"])\n",
    "data_1.head()"
   ]
  },
  {
   "cell_type": "code",
   "execution_count": 36,
   "id": "475d9cbb",
   "metadata": {},
   "outputs": [
    {
     "data": {
      "text/plain": [
       "<AxesSubplot:>"
      ]
     },
     "execution_count": 36,
     "metadata": {},
     "output_type": "execute_result"
    },
    {
     "data": {
      "image/png": "[encoded data removed]",
      "text/plain": [
       "<Figure size 432x288 with 1 Axes>"
      ]
     },
     "metadata": {
      "needs_background": "light"
     },
     "output_type": "display_data"
    }
   ],
   "source": [
    "data_1.plot()"
   ]
  },
  {
   "cell_type": "code",
   "execution_count": 37,
   "id": "198588ce",
   "metadata": {},
   "outputs": [],
   "source": [
    "import matplotlib.pyplot as plt"
   ]
  },
  {
   "cell_type": "code",
   "execution_count": 38,
   "id": "8e65883a",
   "metadata": {},
   "outputs": [
    {
     "data": {
      "text/plain": [
       "<AxesSubplot:>"
      ]
     },
     "execution_count": 38,
     "metadata": {},
     "output_type": "execute_result"
    },
    {
     "data": {
      "image/png": "[encoded data removed]",
      "text/plain": [
       "<Figure size 432x288 with 2 Axes>"
      ]
     },
     "metadata": {
      "needs_background": "light"
     },
     "output_type": "display_data"
    }
   ],
   "source": [
    "data = pd.Series(np.random.randn(16), index=list(\"abcdefghijklmnop\"))\n",
    "fig,axes = plt.subplots(1,2)\n",
    "data.plot(ax=axes[0], kind=\"bar\")\n",
    "data.plot(ax=axes[1], kind=\"barh\")"
   ]
  },
  {
   "cell_type": "code",
   "execution_count": 39,
   "id": "de7bc8f3",
   "metadata": {},
   "outputs": [
    {
     "data": {
      "text/html": [
       "<div>\n",
       "<style scoped>\n",
       "    .dataframe tbody tr th:only-of-type {\n",
       "        vertical-align: middle;\n",
       "    }\n",
       "\n",
       "    .dataframe tbody tr th {\n",
       "        vertical-align: top;\n",
       "    }\n",
       "\n",
       "    .dataframe thead th {\n",
       "        text-align: right;\n",
       "    }\n",
       "</style>\n",
       "<table border=\"1\" class=\"dataframe\">\n",
       "  <thead>\n",
       "    <tr style=\"text-align: right;\">\n",
       "      <th>genius</th>\n",
       "      <th>A</th>\n",
       "      <th>B</th>\n",
       "      <th>C</th>\n",
       "      <th>D</th>\n",
       "    </tr>\n",
       "  </thead>\n",
       "  <tbody>\n",
       "    <tr>\n",
       "      <th>one</th>\n",
       "      <td>1.017589</td>\n",
       "      <td>-0.449170</td>\n",
       "      <td>0.664439</td>\n",
       "      <td>-0.965234</td>\n",
       "    </tr>\n",
       "    <tr>\n",
       "      <th>two</th>\n",
       "      <td>-0.765176</td>\n",
       "      <td>-2.980515</td>\n",
       "      <td>-1.603402</td>\n",
       "      <td>1.121667</td>\n",
       "    </tr>\n",
       "    <tr>\n",
       "      <th>three</th>\n",
       "      <td>-0.301394</td>\n",
       "      <td>-1.500926</td>\n",
       "      <td>-0.444791</td>\n",
       "      <td>0.226884</td>\n",
       "    </tr>\n",
       "    <tr>\n",
       "      <th>four</th>\n",
       "      <td>0.483642</td>\n",
       "      <td>-1.937892</td>\n",
       "      <td>0.896354</td>\n",
       "      <td>-2.179205</td>\n",
       "    </tr>\n",
       "    <tr>\n",
       "      <th>five</th>\n",
       "      <td>-0.316321</td>\n",
       "      <td>1.435057</td>\n",
       "      <td>-1.519203</td>\n",
       "      <td>-2.601768</td>\n",
       "    </tr>\n",
       "  </tbody>\n",
       "</table>\n",
       "</div>"
      ],
      "text/plain": [
       "genius         A         B         C         D\n",
       "one     1.017589 -0.449170  0.664439 -0.965234\n",
       "two    -0.765176 -2.980515 -1.603402  1.121667\n",
       "three  -0.301394 -1.500926 -0.444791  0.226884\n",
       "four    0.483642 -1.937892  0.896354 -2.179205\n",
       "five   -0.316321  1.435057 -1.519203 -2.601768"
      ]
     },
     "execution_count": 39,
     "metadata": {},
     "output_type": "execute_result"
    }
   ],
   "source": [
    "data_2 = pd.DataFrame(np.random.randn(6,4),\n",
    "                     index = [\"one\",\"two\",\"three\",\"four\",\"five\",\"six\"],\n",
    "                     columns = pd.Index([\"A\",\"B\",\"C\",\"D\"], name=\"genius\"))\n",
    "data_2.head()"
   ]
  },
  {
   "cell_type": "code",
   "execution_count": 40,
   "id": "5667f3b1",
   "metadata": {},
   "outputs": [
    {
     "data": {
      "text/plain": [
       "<AxesSubplot:>"
      ]
     },
     "execution_count": 40,
     "metadata": {},
     "output_type": "execute_result"
    },
    {
     "data": {
      "image/png": "[encoded data removed]",
      "text/plain": [
       "<Figure size 432x288 with 1 Axes>"
      ]
     },
     "metadata": {
      "needs_background": "light"
     },
     "output_type": "display_data"
    }
   ],
   "source": [
    "data_2.plot(kind=\"bar\")"
   ]
  }
 ],
 "metadata": {
  "kernelspec": {
   "display_name": "Python 3",
   "language": "python",
   "name": "python3"
  },
  "language_info": {
   "codemirror_mode": {
    "name": "ipython",
    "version": 3
   },
   "file_extension": ".py",
   "mimetype": "text/x-python",
   "name": "python",
   "nbconvert_exporter": "python",
   "pygments_lexer": "ipython3",
   "version": "3.8.8"
  }
 },
 "nbformat": 4,
 "nbformat_minor": 5
}
